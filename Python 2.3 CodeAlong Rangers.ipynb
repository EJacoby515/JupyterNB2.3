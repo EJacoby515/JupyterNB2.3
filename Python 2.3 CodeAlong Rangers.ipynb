{
 "cells": [
  {
   "cell_type": "markdown",
   "metadata": {},
   "source": [
    "# Algorithms, Binary Search & Linked Lists"
   ]
  },
  {
   "cell_type": "markdown",
   "metadata": {},
   "source": [
    "## Tasks Today:\n",
    " \n",
    "1) <b>In-Place Algorithms</b> <br>\n",
    " &nbsp;&nbsp;&nbsp;&nbsp; a) Syntax <br>\n",
    " &nbsp;&nbsp;&nbsp;&nbsp; a) Out of Place Algorithm <br>\n",
    " &nbsp;&nbsp;&nbsp;&nbsp; b) In-Class Exercise #1 <br>\n",
    "2) <b>Two Pointers</b> <br>\n",
    "3) <b>Linked Lists</b> <br>\n",
    "4) <b>Merge Sort</b> <br>\n",
    " &nbsp;&nbsp;&nbsp;&nbsp; a) Video on Algorithms <br>\n",
    " &nbsp;&nbsp;&nbsp;&nbsp; b) How it Works <br>\n",
    "5) <b>Exercises</b> <br>\n",
    " &nbsp;&nbsp;&nbsp;&nbsp; a) Exercise #1 - Reverse a List in Place Using an In-Place Algorithm <br>\n",
    " &nbsp;&nbsp;&nbsp;&nbsp; b) Exercise #2 - Find Distinct Words <br>\n",
    " &nbsp;&nbsp;&nbsp;&nbsp; c) Exercise #3 - Write a program to implement a Linear Search Algorithm. <br>"
   ]
  },
  {
   "cell_type": "markdown",
   "metadata": {},
   "source": [
    "## In-Place Algorithms"
   ]
  },
  {
   "cell_type": "markdown",
   "metadata": {},
   "source": [
    "#### Syntax"
   ]
  },
  {
   "cell_type": "code",
   "execution_count": 5,
   "metadata": {},
   "outputs": [
    {
     "name": "stdout",
     "output_type": "stream",
     "text": [
      "Before swap: [20, 4, 10]\n",
      "After swap: [20, 10, 4]\n"
     ]
    }
   ],
   "source": [
    "# var[i], var[i + 1] = var[i + 1], var[i]\n",
    "# Sometimes known as a swap algorithm\n",
    "def swap(a_list,x ,y ,z):\n",
    "    a_list[x],a_list[y],a_list[z] = a_list[z], a_list[y], a_list[x]\n",
    "    return a_list\n",
    "\n",
    "my_list = [20, 4, 10]\n",
    "print(f\"Before swap: {my_list}\")\n",
    "\n",
    "# swap\n",
    "swap(my_list, 2, 0, 1)\n",
    "\n",
    "print(f\"After swap: {my_list}\")\n"
   ]
  },
  {
   "cell_type": "markdown",
   "metadata": {},
   "source": [
    "#### Out of Place Algorithm"
   ]
  },
  {
   "cell_type": "code",
   "execution_count": 38,
   "metadata": {},
   "outputs": [
    {
     "name": "stdout",
     "output_type": "stream",
     "text": [
      "[4, 10, 20]\n",
      "[20, 10, 4]\n",
      "Before: ['a', 'b', 'c', 'd']\n",
      "After ['d', 'c', 'b', 'a']\n"
     ]
    }
   ],
   "source": [
    "# Not swapping, completely reversing BUT also copies to another place in memory\n",
    "\n",
    "my_list_copy = my_list[::-1]\n",
    "print(my_list_copy)\n",
    "print(my_list)\n",
    "\n",
    "array = ['a', 'b', 'c', 'd']\n",
    "new_array = ['a'] * len(array)\n",
    "\n",
    "print(\"Before:\", array)\n",
    "# length = len(array) - 1\n",
    "\n",
    "for i in range(length):\n",
    "    new_array[i] = array[length - i]\n",
    "array = new_array\n",
    "print(\"After\", array)\n"
   ]
  },
  {
   "cell_type": "code",
   "execution_count": null,
   "metadata": {},
   "outputs": [],
   "source": []
  },
  {
   "cell_type": "markdown",
   "metadata": {},
   "source": [
    "#### In-Class Exercise #1 <br>\n",
    "<p>Write a function that takes in four arguments (list, index1, index2, index3), and swaps those three positions in the list passed in.</p>"
   ]
  },
  {
   "cell_type": "code",
   "execution_count": 84,
   "metadata": {},
   "outputs": [
    {
     "name": "stdout",
     "output_type": "stream",
     "text": [
      "Before:  [10, 4, 3, 8, 4, 2, 6]\n",
      "After:  [3, 4, 10]\n"
     ]
    }
   ],
   "source": [
    "l_1 = [10, 4, 3, 8, 4, 2, 6]\n",
    "# n_l =l_1[0],l_1[1],l_1[2]\n",
    "print(\"Before: \", l_1)\n",
    "# n_l = l_1[0:3]\n",
    "\n",
    "# r_n_l = [0] * len(n_l)\n",
    "\n",
    "# for i in range(len(n_l)):\n",
    "#     r_n_l[i] = n_l[len(n_l) -1 -i]\n",
    "# n_l = r_n_l\n",
    "# print(n_l)\n",
    "\n",
    "\n",
    "n_l = l_1[0:3][::-1]\n",
    "print(\"After: \", n_l)"
   ]
  },
  {
   "cell_type": "markdown",
   "metadata": {},
   "source": [
    "## Two Pointers"
   ]
  },
  {
   "cell_type": "markdown",
   "metadata": {},
   "source": [
    "#### Syntax"
   ]
  },
  {
   "cell_type": "code",
   "execution_count": 86,
   "metadata": {},
   "outputs": [
    {
     "data": {
      "text/plain": [
       "[22, 2, 3, 12, 9, 4, 11, 1]"
      ]
     },
     "execution_count": 86,
     "metadata": {},
     "output_type": "execute_result"
    }
   ],
   "source": [
    "# allist[left], alist[right] = alight[right], alist[left]\n",
    "\n",
    "def twopointers(alist):\n",
    "    #create the pointers\n",
    "    left = 0\n",
    "    right = len(alist) - 1 \n",
    "    # seta loop that works through our list and swaps things one pair at a time\n",
    "    while left <= right:\n",
    "        alist[left], alist[right] = alist[right], alist[left]\n",
    "        left += 1\n",
    "        right =+ 1\n",
    "    return alist\n",
    "\n",
    "my_list2 = [1,2,3,12,9,4,11,22]\n",
    "twopointers(my_list2)"
   ]
  },
  {
   "cell_type": "markdown",
   "metadata": {},
   "source": [
    "#### Video of Algorithms <br>\n",
    "<p>Watch the video about algorithms.</p>\n",
    "\n",
    "https://www.youtube.com/watch?v=Q9HjeFD62Uk\n",
    "\n",
    "https://www.youtube.com/watch?v=kPRA0W1kECg\n",
    "\n",
    "https://www.youtube.com/watch?v=ZZuD6iUe3Pc"
   ]
  },
  {
   "cell_type": "markdown",
   "metadata": {},
   "source": [
    "# Sorting Algorithms"
   ]
  },
  {
   "cell_type": "markdown",
   "metadata": {},
   "source": [
    "#### Bubble Sort\n",
    "\n",
    "Worst Case: O(n^2) Time - O(1) Space"
   ]
  },
  {
   "cell_type": "code",
   "execution_count": 89,
   "metadata": {},
   "outputs": [
    {
     "data": {
      "text/plain": [
       "[1, 22, 34, 44, 55, 66, 88, 100]"
      ]
     },
     "execution_count": 89,
     "metadata": {},
     "output_type": "execute_result"
    }
   ],
   "source": [
    "# Best Case : O(n)- Linear\n",
    "def swap(i, j, array):\n",
    "    array[i], array[j] = array [j], array[i]\n",
    "    \n",
    "def bubbleSort(array):\n",
    "    isSorted = False\n",
    "    while not isSorted:\n",
    "        isSorted = True\n",
    "        for num in range(len(array) - 1):\n",
    "            if array[num] > array[num + 1]:\n",
    "                swap(num, num + 1, array)\n",
    "                isSorted = False\n",
    "    return array\n",
    "bubbleSort([22,55,88,44,1,100,34,66])"
   ]
  },
  {
   "cell_type": "markdown",
   "metadata": {},
   "source": [
    "##### Insertion Sort\n",
    "\n",
    "Worst Case: O(n^2) time - O(1)space"
   ]
  },
  {
   "cell_type": "code",
   "execution_count": 98,
   "metadata": {},
   "outputs": [
    {
     "data": {
      "text/plain": [
       "[1, 22, 34, 44, 55, 66, 88, 100]"
      ]
     },
     "execution_count": 98,
     "metadata": {},
     "output_type": "execute_result"
    }
   ],
   "source": [
    "def swap(i,j,array):\n",
    "    array[i], array[j] = array [j], array[i]\n",
    "\n",
    "    \n",
    "def insertionSort(array):\n",
    "    for i in range(1, len(array)):\n",
    "        j = i \n",
    "        while j > 0 and array[j] < array[j-1]:\n",
    "            swap(j, j - 1, array)\n",
    "            j -= 1\n",
    "    return array\n",
    "insertionSort([22,55,88,44,1,100,34,66])"
   ]
  },
  {
   "cell_type": "markdown",
   "metadata": {},
   "source": [
    "## Merge Sort"
   ]
  },
  {
   "cell_type": "markdown",
   "metadata": {},
   "source": [
    "#### How it Works"
   ]
  },
  {
   "cell_type": "code",
   "execution_count": 133,
   "metadata": {},
   "outputs": [
    {
     "name": "stdout",
     "output_type": "stream",
     "text": [
      "splitting... [5, 4, 0, 20, 10]\n",
      "splitting... [5, 4]\n",
      "splitting... [5]\n",
      "merging... [5]\n",
      "splitting... [4]\n",
      "merging... [4]\n",
      "merging... [4, 5]\n",
      "splitting... [0, 20, 10]\n",
      "splitting... [0]\n",
      "merging... [0]\n",
      "splitting... [20, 10]\n",
      "splitting... [20]\n",
      "merging... [20]\n",
      "splitting... [10]\n",
      "merging... [10]\n",
      "merging... [10, 20]\n",
      "merging... [0, 20, 10]\n",
      "merging... [0, 4, 5, 10, 10]\n"
     ]
    },
    {
     "data": {
      "text/plain": [
       "[0, 4, 5, 10, 10]"
      ]
     },
     "execution_count": 133,
     "metadata": {},
     "output_type": "execute_result"
    }
   ],
   "source": [
    "# step 1: Split everything into it own group\n",
    "# step 2: from L to R, merge two groupds together\n",
    "# step 3: while merging, place each item in the correct position within the merged group\n",
    "# step 4: contiune steps 3-4 until only one group is left.\n",
    "\n",
    "from random import randint\n",
    "# using to generate a radnom list of 5 numbers from 0-20\n",
    "nums = [randint(0,20) for i in range(5)]\n",
    "\n",
    "# Write out merge sort below\n",
    "def mergeSort(alist):\n",
    "    print(\"splitting...\", alist)\n",
    "    # step 1: Divide the array into equal parts as much as possible\n",
    "    if len(alist) > 1:\n",
    "        mid = len(alist) // 2\n",
    "        lefthalf = alist[:mid]\n",
    "        righthalf = alist[mid:]\n",
    "        \n",
    "        # recursviley call mergeDort to perform splits if needed\n",
    "        #THEN merge once the splits are done\n",
    "        mergeSort(lefthalf)\n",
    "        mergeSort(righthalf)\n",
    "        \n",
    "        #index pointers for our list\n",
    "        i = 0 # pointers for left half\n",
    "        j = 0 # pointers for right half\n",
    "        k = 0 # pointer for main array\n",
    "        \n",
    "        #step 2 : compair the left halfhalf the righthalf\n",
    "        while i < len(lefthalf) and j < len(righthalf):\n",
    "            if lefthalf[i] < righthalf[j]:\n",
    "                alist[k] = lefthalf[i]\n",
    "                i = i + 1\n",
    "            else:\n",
    "                alist[k] = righthalf[j]\n",
    "                j = j + 1\n",
    "            k = k + 1\n",
    "            \n",
    "            #step 3 : while merge, place items in the correct positions\n",
    "        while i < len(lefthalf):\n",
    "                alist[k] = lefthalf[i]\n",
    "                i = i + 1\n",
    "                k = k + 1\n",
    "        while j < len(righthalf):\n",
    "                alist[k] = righthalf[j]\n",
    "                j = j + 1\n",
    "                k + k + 1\n",
    "    print(\"merging...\", alist)\n",
    "    return alist\n",
    "    \n",
    "mergeSort(nums)"
   ]
  },
  {
   "cell_type": "markdown",
   "metadata": {},
   "source": [
    "# Binary Search\n",
    "\n",
    "The Binary Search algorithm works by finding the number in the middle of a given array and comparing it to the target. Given that the array is sorted\n",
    "\n",
    "* The worst case run time for this algorithm is `O(log(n))`"
   ]
  },
  {
   "cell_type": "code",
   "execution_count": 145,
   "metadata": {},
   "outputs": [
    {
     "data": {
      "text/plain": [
       "'The index is ... 1'"
      ]
     },
     "execution_count": 145,
     "metadata": {},
     "output_type": "execute_result"
    }
   ],
   "source": [
    "# Less = Left\n",
    "# Greater = Right\n",
    "# List of numbers MUST be sorted!!!\n",
    "\n",
    "def binarySearchHelperFunction(array, target, left, right):\n",
    "    while left <= right:\n",
    "        middle = (left + right) // 2\n",
    "        potentialMatch = array[middle]\n",
    "        if target == potentialMatch:\n",
    "            return f\"The index is ... {middle}\"\n",
    "        elif target < potentialMatch:\n",
    "            right = middle - 1\n",
    "        else:\n",
    "            left = middle + 1\n",
    "    return -1\n",
    "def binarySearch(array, target):\n",
    "    return binarySearchHelperFunction(array, target, 0, len(array) - 1)\n",
    "    \n",
    "binarySearch([22,44,55,66,88,100],44)"
   ]
  },
  {
   "cell_type": "code",
   "execution_count": null,
   "metadata": {},
   "outputs": [],
   "source": []
  },
  {
   "cell_type": "markdown",
   "metadata": {},
   "source": [
    "# Exercises"
   ]
  },
  {
   "cell_type": "markdown",
   "metadata": {},
   "source": [
    "### Exercise #1 <br>\n",
    "<p>Reverse the list below in-place using an in-place algorithm.<br>For extra credit: Reverse the strings at the same time.</p>"
   ]
  },
  {
   "cell_type": "code",
   "execution_count": 208,
   "metadata": {},
   "outputs": [
    {
     "name": "stdout",
     "output_type": "stream",
     "text": [
      "original words : ['this', 'is', 'a', 'sentence', '.']\n",
      "reversed words : ['.', 'ecnetnes', 'a', 'si', 'siht']\n"
     ]
    }
   ],
   "source": [
    "words = ['this' , 'is', 'a', 'sentence', '.']\n",
    "# expected output \"words = ['.','ecnetnes','a','si','siht']\"\n",
    "\n",
    "def words_rev(words):\n",
    "    if len(words) == 0:\n",
    "        return words\n",
    "    else:\n",
    "        return [words[0][::-1]] + words_rev(words[1: ])\n",
    "print (\"original words :\", words)\n",
    "print (\"reversed words :\", words_rev(words)[::-1])"
   ]
  },
  {
   "cell_type": "markdown",
   "metadata": {},
   "source": [
    "### Exercise #2 <br>\n",
    "<p>Create a function that counts how many distinct words are in the string below, then outputs a dictionary with the words as the key and the value as the amount of times that word appears in the string.<br>Should output:<br>{'a': 5,<br>\n",
    " 'abstract': 1,<br>\n",
    " 'an': 3,<br>\n",
    " 'array': 2, ... etc...</p>"
   ]
  },
  {
   "cell_type": "code",
   "execution_count": null,
   "metadata": {},
   "outputs": [],
   "source": []
  },
  {
   "cell_type": "code",
   "execution_count": 211,
   "metadata": {},
   "outputs": [
    {
     "name": "stdout",
     "output_type": "stream",
     "text": [
      "'a' appeared 5xs\n",
      "'abstract' appeared 1x\n",
      "'an' appeared 3xs\n",
      "'array' appeared 2xs\n",
      "'associative' appeared 1x\n",
      "'be' appeared 1x\n",
      "'buckets' appeared 1x\n",
      "'can' appeared 2xs\n",
      "'compute' appeared 1x\n",
      "'computing,' appeared 1x\n",
      "'data' appeared 2xs\n",
      "'desired' appeared 1x\n",
      "'found' appeared 1x\n",
      "'from' appeared 1x\n",
      "'function' appeared 1x\n",
      "'hash' appeared 4xs\n",
      "'implements' appeared 1x\n",
      "'in' appeared 1x\n",
      "'index' appeared 1x\n",
      "'into' appeared 1x\n",
      "'is' appeared 1x\n",
      "'keys' appeared 1x\n",
      "'map' appeared 2xs\n",
      "'of' appeared 1x\n",
      "'or' appeared 1x\n",
      "'slots' appeared 1x\n",
      "'structure' appeared 2xs\n",
      "'table' appeared 2xs\n",
      "'that' appeared 1x\n",
      "'the' appeared 1x\n",
      "'to' appeared 2xs\n",
      "'type,' appeared 1x\n",
      "'uses' appeared 1x\n",
      "'value' appeared 1x\n",
      "'values.' appeared 1x\n",
      "'which' appeared 2xs\n"
     ]
    }
   ],
   "source": [
    "def wordCounter():\n",
    "\n",
    "    words = a_text.lower()\n",
    "\n",
    "    sep_words = words.split()   \n",
    "\n",
    "    word_num_pair = {}\n",
    "\n",
    "    for word in sep_words:\n",
    "        if word in word_num_pair:\n",
    "            word_num_pair[word] += 1\n",
    "        else:\n",
    "                word_num_pair[word] = 1\n",
    "        \n",
    "        \n",
    "    for word,count in sorted(word_num_pair.items()):\n",
    "        if count <= 1:\n",
    "            print(f\"'{word}' appeared {count}x\")\n",
    "        else:\n",
    "            print(f\"'{word}' appeared {count}xs\")\n",
    "wordCounter()"
   ]
  },
  {
   "cell_type": "markdown",
   "metadata": {},
   "source": [
    "## Exercise #3\n",
    "\n",
    "Write a program to implement a Linear Search Algorithm. Also in a comment, write the Time Complexity of the following algorithm.\n",
    "\n",
    "#### Hint: Linear Searching will require searching a list for a given number. "
   ]
  },
  {
   "cell_type": "code",
   "execution_count": 255,
   "metadata": {},
   "outputs": [
    {
     "name": "stdout",
     "output_type": "stream",
     "text": [
      "70\n"
     ]
    }
   ],
   "source": [
    "nums_list = [10,23,45,70,11,15]\n",
    "target = 70\n",
    "\n",
    "# If number is not present return -1\n",
    "\n",
    "\n",
    "for i in range(len(nums_list)):\n",
    "    if nums_list[i] == target:\n",
    "        print(nums_list[i])\n",
    "        break\n",
    "else:  \n",
    "    if nums_list[i] != target:\n",
    "        print(-1)\n",
    "        \n",
    "#         timeComplexity:O(n)"
   ]
  }
 ],
 "metadata": {
  "kernelspec": {
   "display_name": "Python 3 (ipykernel)",
   "language": "python",
   "name": "python3"
  },
  "language_info": {
   "codemirror_mode": {
    "name": "ipython",
    "version": 3
   },
   "file_extension": ".py",
   "mimetype": "text/x-python",
   "name": "python",
   "nbconvert_exporter": "python",
   "pygments_lexer": "ipython3",
   "version": "3.11.5"
  }
 },
 "nbformat": 4,
 "nbformat_minor": 2
}
